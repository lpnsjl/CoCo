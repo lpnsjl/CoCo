{
 "cells": [
  {
   "cell_type": "code",
   "execution_count": 1,
   "metadata": {},
   "outputs": [],
   "source": [
    "##### 吴恩达机器学习习题1#############################################################################################\n",
    "import numpy as np\n",
    "import pandas as pd\n",
    "import matplotlib.pyplot as plt\n",
    "from linearRegression import linear  # 导入线性回归类\n",
    "from load_data import load_data"
   ]
  },
  {
   "cell_type": "code",
   "execution_count": 5,
   "metadata": {
    "collapsed": true
   },
   "outputs": [
    {
     "data": {
      "image/png": "[encoded data removed]",
      "text/plain": [
       "<Figure size 432x288 with 1 Axes>"
      ]
     },
     "metadata": {},
     "output_type": "display_data"
    }
   ],
   "source": [
    "####2.1 plot data##################################################################################################\n",
    "x, y = load_data('/home/sjl/桌面/machine learning/mlclass-ex1-005/mlclass-ex1/ex1data1.txt') # 读取特征值与目标向量\n",
    "plt.plot(x, y, 'r+')\n",
    "plt.xlabel('population in 10000')\n",
    "plt.ylabel('profit in 10000$')\n",
    "plt.show()"
   ]
  },
  {
   "cell_type": "code",
   "execution_count": 7,
   "metadata": {},
   "outputs": [
    {
     "data": {
      "text/plain": [
       "32.07273387745567"
      ]
     },
     "execution_count": 7,
     "metadata": {},
     "output_type": "execute_result"
    }
   ],
   "source": [
    "#####2.2 compute the cost#########################################################################################\n",
    "m, n = x.shape # 获得特征值的形状\n",
    "initial_theta = np.zeros(n+1) # 初始化theta\n",
    "l = linear(x, y, initial_theta)\n",
    "cost = l.cost(initial_theta)\n",
    "print(cost)"
   ]
  },
  {
   "cell_type": "code",
   "execution_count": 9,
   "metadata": {},
   "outputs": [
    {
     "name": "stdout",
     "output_type": "stream",
     "text": [
      "Optimization terminated successfully.\n",
      "         Current function value: 4.476971\n",
      "         Iterations: 6\n",
      "         Function evaluations: 14\n",
      "         Gradient evaluations: 14\n",
      "[[-3.89582548]\n",
      " [ 1.19303812]]\n"
     ]
    }
   ],
   "source": [
    "######2.3 compute theta#########################################################################################\n",
    "theta = l.fit_cg() # 共轭梯度优化算法\n",
    "print(theta)"
   ]
  },
  {
   "cell_type": "code",
   "execution_count": 16,
   "metadata": {},
   "outputs": [
    {
     "data": {
      "text/plain": [
       "array([[22.203 ],\n",
       "       [ 5.0269]])"
      ]
     },
     "execution_count": 16,
     "metadata": {},
     "output_type": "execute_result"
    }
   ],
   "source": [
    "###########2.4 Visualizing h(假设函数)#############################################################################\n",
    "max_x = x.max()\n",
    "min_x = x.min()\n",
    "new_x = np.array([[max_x], [min_x]])\n"
   ]
  }
 ],
 "metadata": {
  "kernelspec": {
   "display_name": "Python 3",
   "language": "python",
   "name": "python3"
  },
  "language_info": {
   "codemirror_mode": {
    "name": "ipython",
    "version": 3
   },
   "file_extension": ".py",
   "mimetype": "text/x-python",
   "name": "python",
   "nbconvert_exporter": "python",
   "pygments_lexer": "ipython3",
   "version": "3.5.2"
  }
 },
 "nbformat": 4,
 "nbformat_minor": 2
}
