{
 "cells": [
  {
   "cell_type": "code",
   "execution_count": 1,
   "metadata": {},
   "outputs": [],
   "source": [
    "import numpy as np\n",
    "import pandas as pd\n",
    "from scipy import io\n",
    "import matplotlib.pyplot as plt\n",
    "from network import network, sigmoid"
   ]
  },
  {
   "cell_type": "code",
   "execution_count": 2,
   "metadata": {},
   "outputs": [],
   "source": [
    "# 吴恩达提供的梯度,因为ｏｃａｔｉｖｅ的原因，需要对ｙ做一些变化\n",
    "weight = io.loadmat('/home/sjl/桌面/machine learning/mlclass-ex3-005/mlclass-ex3/ex3weights.mat')\n",
    "weight1 = weight['Theta1']\n",
    "weight2 = weight['Theta2']\n",
    "weight = [weight1, weight2]\n",
    "weight = np.concatenate([weight1.flatten(), weight2.flatten()])"
   ]
  },
  {
   "cell_type": "code",
   "execution_count": 3,
   "metadata": {},
   "outputs": [
    {
     "data": {
      "text/plain": [
       "0.28762916516131876"
      ]
     },
     "execution_count": 3,
     "metadata": {},
     "output_type": "execute_result"
    }
   ],
   "source": [
    "# 计算代价函数\n",
    "data = io.loadmat('/home/sjl/桌面/CoCo/data/ex3data1.mat')\n",
    "x = data['X']\n",
    "y = data['y']\n",
    "y[y==10] = 0\n",
    "y = y+1\n",
    "\n",
    "# 构建分类标签\n",
    "m = x.shape[0]\n",
    "y1 = np.zeros((m, 10))\n",
    "for i in range(10):\n",
    "    y1[:, i] = np.int32(y==i+1).reshape(1, -1)\n",
    "Y = y\n",
    "y = y1\n",
    "y0 = y[4500:]\n",
    "y = np.append(y0, y[:4500], axis=0)\n",
    "y\n",
    "\n",
    "net = network([400, 25, 10], x, y)\n",
    "net.cost(weight)　# cost = 0.2876"
   ]
  },
  {
   "cell_type": "code",
   "execution_count": null,
   "metadata": {},
   "outputs": [],
   "source": []
  },
  {
   "cell_type": "code",
   "execution_count": null,
   "metadata": {},
   "outputs": [],
   "source": []
  },
  {
   "cell_type": "code",
   "execution_count": null,
   "metadata": {},
   "outputs": [],
   "source": []
  },
  {
   "cell_type": "code",
   "execution_count": null,
   "metadata": {},
   "outputs": [],
   "source": []
  },
  {
   "cell_type": "code",
   "execution_count": null,
   "metadata": {},
   "outputs": [],
   "source": []
  }
 ],
 "metadata": {
  "kernelspec": {
   "display_name": "Python 3",
   "language": "python",
   "name": "python3"
  },
  "language_info": {
   "codemirror_mode": {
    "name": "ipython",
    "version": 3
   },
   "file_extension": ".py",
   "mimetype": "text/x-python",
   "name": "python",
   "nbconvert_exporter": "python",
   "pygments_lexer": "ipython3",
   "version": "3.5.2"
  }
 },
 "nbformat": 4,
 "nbformat_minor": 2
}
