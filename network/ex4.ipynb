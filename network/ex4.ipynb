{
 "cells": [
  {
   "cell_type": "code",
   "execution_count": 11,
   "metadata": {},
   "outputs": [],
   "source": [
    "import numpy as np\n",
    "import pandas as pd\n",
    "from scipy import io\n",
    "import matplotlib.pyplot as plt\n",
    "from network import network, sigmoid"
   ]
  },
  {
   "cell_type": "code",
   "execution_count": 12,
   "metadata": {},
   "outputs": [],
   "source": [
    "# 吴恩达提供的梯度\n",
    "weight = io.loadmat('/home/sjl/桌面/machine learning/mlclass-ex3-005/mlclass-ex3/ex3weights.mat')\n",
    "weight1 = weight['Theta1']\n",
    "weight2 = weight['Theta2']\n",
    "weight = [weight1, weight2]"
   ]
  },
  {
   "cell_type": "code",
   "execution_count": 28,
   "metadata": {},
   "outputs": [
    {
     "data": {
      "text/plain": [
       "<function matplotlib.pyplot.show(*args, **kw)>"
      ]
     },
     "execution_count": 28,
     "metadata": {},
     "output_type": "execute_result"
    },
    {
     "data": {
      "image/png": "[encoded data removed]",
      "text/plain": [
       "<Figure size 432x288 with 1 Axes>"
      ]
     },
     "metadata": {},
     "output_type": "display_data"
    }
   ],
   "source": [
    "data = io.loadmat('/home/sjl/桌面/CoCo/data/ex3data1.mat')\n",
    "x = data['X']\n",
    "y = data['y']\n",
    "y[y==10] = 0\n",
    "# 构建分类标签\n",
    "m = x.shape[0]\n",
    "y1 = np.zeros((m, 10))\n",
    "for i in range(10):\n",
    "    y1[:, i] = np.int32(y==i).reshape(1, -1)\n",
    "Y = y\n",
    "y = y1\n",
    "Y\n",
    "plt.imshow(x[0].reshape(20, 20).T)\n",
    "plt.show"
   ]
  },
  {
   "cell_type": "code",
   "execution_count": 27,
   "metadata": {},
   "outputs": [
    {
     "data": {
      "text/plain": [
       "0.9752"
      ]
     },
     "execution_count": 27,
     "metadata": {},
     "output_type": "execute_result"
    }
   ],
   "source": [
    "# 计算预测成功率\n",
    "def feedforward(x, weight):\n",
    "        active = x\n",
    "        for w in weight:\n",
    "            m = active.shape[0]\n",
    "            active0 = np.ones(m)\n",
    "            active = np.insert(active, 0, values=active0, axis=1)\n",
    "            z = np.dot(active, w.T)\n",
    "            active = sigmoid(z)\n",
    "        return active\n",
    "actives = feedforward(x, weight)\n",
    "max = np.max(actives, axis=1)\n",
    "# m= x.shape[0]\n",
    "# actives1 = np.zeros((m, 10))\n",
    "# for i in range(m):\n",
    "#     actives1[i, :] = np.int32(actives[i, :] == max[i])\n",
    "# actives = actives1\n",
    "actives1 = np.zeros((5000, 1))\n",
    "num = 0\n",
    "for i in range(5000):\n",
    "    actives1[i][0] = np.where(actives[i, :]==max[i])[0]+1\n",
    "    if actives1[i][0] == 10:\n",
    "        actives1[i][0] = 0\n",
    "    if actives1[i][0] == Y[i][0]:\n",
    "        num += 1\n",
    "actives1\n",
    "num/5000"
   ]
  },
  {
   "cell_type": "code",
   "execution_count": 7,
   "metadata": {},
   "outputs": [
    {
     "data": {
      "text/plain": [
       "array([[2.],\n",
       "       [2.],\n",
       "       [2.],\n",
       "       ...,\n",
       "       [2.],\n",
       "       [2.],\n",
       "       [2.]])"
      ]
     },
     "execution_count": 7,
     "metadata": {},
     "output_type": "execute_result"
    }
   ],
   "source": []
  },
  {
   "cell_type": "code",
   "execution_count": null,
   "metadata": {},
   "outputs": [],
   "source": []
  },
  {
   "cell_type": "code",
   "execution_count": null,
   "metadata": {},
   "outputs": [],
   "source": []
  },
  {
   "cell_type": "code",
   "execution_count": null,
   "metadata": {},
   "outputs": [],
   "source": []
  }
 ],
 "metadata": {
  "kernelspec": {
   "display_name": "Python 3",
   "language": "python",
   "name": "python3"
  },
  "language_info": {
   "codemirror_mode": {
    "name": "ipython",
    "version": 3
   },
   "file_extension": ".py",
   "mimetype": "text/x-python",
   "name": "python",
   "nbconvert_exporter": "python",
   "pygments_lexer": "ipython3",
   "version": "3.5.2"
  }
 },
 "nbformat": 4,
 "nbformat_minor": 2
}
