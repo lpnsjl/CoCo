{
 "cells": [
  {
   "cell_type": "code",
   "execution_count": 1,
   "metadata": {},
   "outputs": [],
   "source": [
    "import numpy as np\n",
    "import pandas as pd\n",
    "from scipy import io\n",
    "import matplotlib.pyplot as plt\n",
    "from network import network"
   ]
  },
  {
   "cell_type": "code",
   "execution_count": 7,
   "metadata": {},
   "outputs": [
    {
     "data": {
      "text/plain": [
       "(10, 26)"
      ]
     },
     "execution_count": 7,
     "metadata": {},
     "output_type": "execute_result"
    }
   ],
   "source": [
    "# 吴恩达提供的梯度\n",
    "weight = io.loadmat('/home/sjl/桌面/machine learning/mlclass-ex3-005/mlclass-ex3/ex3weights.mat')\n",
    "weight1 = weight['Theta1']\n",
    "weight2 = weight['Theta2']\n",
    "weight = [weight1, weight2]"
   ]
  },
  {
   "cell_type": "code",
   "execution_count": 44,
   "metadata": {},
   "outputs": [
    {
     "data": {
      "text/plain": [
       "array([[1., 0., 0., ..., 0., 0., 0.],\n",
       "       [1., 0., 0., ..., 0., 0., 0.],\n",
       "       [1., 0., 0., ..., 0., 0., 0.],\n",
       "       ...,\n",
       "       [0., 0., 0., ..., 0., 0., 1.],\n",
       "       [0., 0., 0., ..., 0., 0., 1.],\n",
       "       [0., 0., 0., ..., 0., 0., 1.]])"
      ]
     },
     "execution_count": 44,
     "metadata": {},
     "output_type": "execute_result"
    }
   ],
   "source": [
    "data = io.loadmat('/home/sjl/桌面/CoCo/data/ex3data1.mat')\n",
    "x = data['X']\n",
    "y = data['y']\n",
    "y[y==10] = 0\n",
    "# 构建分类标签\n",
    "m = x.shape[0]\n",
    "y1 = np.zeros((m, 10))\n",
    "for i in range(10):\n",
    "    y1[:, i] = np.int32(y==i).reshape(1, -1)\n",
    "y = y1\n",
    "y\n",
    "# plt.imshow(x[4999].reshape(20, 20).T)\n",
    "# plt.show"
   ]
  },
  {
   "cell_type": "code",
   "execution_count": null,
   "metadata": {},
   "outputs": [],
   "source": [
    "# 计算预测成功率\n",
    "net = network([400, 25, 10], x, y)\n",
    "weight = net.fit_cg()\n",
    "actives = net.feedforward(weight)\n",
    "max = np.max(actives, axis=1)\n",
    "# m= x.shape[0]\n",
    "# actives1 = np.zeros((m, 10))\n",
    "# for i in range(m):\n",
    "#     actives1[i, :] = np.int32(actives[i, :] == max[i])\n",
    "# actives = actives1\n",
    "actives1 = np.zeros((5000, 1))\n",
    "num = 0\n",
    "for i in range(5000):\n",
    "    actives1[i] = np.where(actives[i, :]==max[i])\n",
    "    if actives1[i][0] == y[i][0]:\n",
    "        num += 1\n",
    "num"
   ]
  },
  {
   "cell_type": "code",
   "execution_count": null,
   "metadata": {},
   "outputs": [],
   "source": []
  },
  {
   "cell_type": "code",
   "execution_count": null,
   "metadata": {},
   "outputs": [],
   "source": []
  },
  {
   "cell_type": "code",
   "execution_count": null,
   "metadata": {},
   "outputs": [],
   "source": []
  },
  {
   "cell_type": "code",
   "execution_count": null,
   "metadata": {},
   "outputs": [],
   "source": []
  }
 ],
 "metadata": {
  "kernelspec": {
   "display_name": "Python 3",
   "language": "python",
   "name": "python3"
  },
  "language_info": {
   "codemirror_mode": {
    "name": "ipython",
    "version": 3
   },
   "file_extension": ".py",
   "mimetype": "text/x-python",
   "name": "python",
   "nbconvert_exporter": "python",
   "pygments_lexer": "ipython3",
   "version": "3.5.2"
  }
 },
 "nbformat": 4,
 "nbformat_minor": 2
}
